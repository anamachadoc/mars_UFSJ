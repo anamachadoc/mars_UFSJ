{
 "cells": [
  {
   "cell_type": "code",
   "execution_count": 1,
   "id": "23799ab6",
   "metadata": {},
   "outputs": [],
   "source": [
    "datapath = 'data/'\n",
    "from graph import Graph"
   ]
  },
  {
   "cell_type": "code",
   "execution_count": 2,
   "id": "82f7a01e",
   "metadata": {},
   "outputs": [],
   "source": [
    "kwargs = {'directed': True, 'datapath': datapath, 'savepath': 'output/with_user_0/'}"
   ]
  },
  {
   "cell_type": "code",
   "execution_count": 3,
   "id": "8905672a",
   "metadata": {},
   "outputs": [],
   "source": [
    "G = Graph(**kwargs)"
   ]
  },
  {
   "cell_type": "code",
   "execution_count": 4,
   "id": "dda4ca56",
   "metadata": {},
   "outputs": [
    {
     "name": "stdout",
     "output_type": "stream",
     "text": [
      "number of nodes: 451\n",
      "number of edges: 28693\n",
      "mean clustering: 0.5382\n"
     ]
    }
   ],
   "source": [
    "print(f'number of nodes: {G.get_num_nodes()}')\n",
    "print(f'number of edges: {G.get_num_edges()}')\n",
    "print(f'mean clustering: {G.get_mean_clustering()}')"
   ]
  },
  {
   "cell_type": "code",
   "execution_count": 13,
   "id": "c387a6e4",
   "metadata": {},
   "outputs": [],
   "source": [
    "G.save_nodes_degree()\n",
    "G.save_clustering_coefficient()"
   ]
  },
  {
   "cell_type": "code",
   "execution_count": 14,
   "id": "4e7cf990",
   "metadata": {},
   "outputs": [],
   "source": [
    "G.plot_degree_distribution('log')\n",
    "G.plot_degree_distribution('linear')"
   ]
  },
  {
   "cell_type": "code",
   "execution_count": 15,
   "id": "6863949d",
   "metadata": {},
   "outputs": [],
   "source": [
    "G.centrality(type='degree centrality')\n",
    "G.centrality(type='eigenvector')"
   ]
  },
  {
   "cell_type": "code",
   "execution_count": 16,
   "id": "e6749d72",
   "metadata": {},
   "outputs": [],
   "source": [
    "G.plot_graph_default()\n",
    "G.plot_graph_by_centrality(type='degree centrality')\n",
    "G.plot_graph_by_centrality(type='eigenvector')"
   ]
  }
 ],
 "metadata": {
  "kernelspec": {
   "display_name": "3.10.12",
   "language": "python",
   "name": "python3"
  },
  "language_info": {
   "codemirror_mode": {
    "name": "ipython",
    "version": 3
   },
   "file_extension": ".py",
   "mimetype": "text/x-python",
   "name": "python",
   "nbconvert_exporter": "python",
   "pygments_lexer": "ipython3",
   "version": "3.10.12"
  }
 },
 "nbformat": 4,
 "nbformat_minor": 5
}
