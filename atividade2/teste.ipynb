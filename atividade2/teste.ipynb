{
 "cells": [
  {
   "cell_type": "code",
   "execution_count": null,
   "id": "306cf60c",
   "metadata": {},
   "outputs": [],
   "source": [
    "kwargs = {\n",
    "    'api_key': '',\n",
    "    'videos_by_channel': 3,\n",
    "    'channel_path': 'input/channels.txt',\n",
    "    'save_path': 'output/'\n",
    "}"
   ]
  },
  {
   "cell_type": "code",
   "execution_count": 2,
   "id": "53274615",
   "metadata": {},
   "outputs": [],
   "source": [
    "from collect_videos import YoutubeDataCollector\n",
    "\n",
    "dataCollector = YoutubeDataCollector(**kwargs)"
   ]
  },
  {
   "cell_type": "code",
   "execution_count": 3,
   "id": "867fcc2b",
   "metadata": {},
   "outputs": [
    {
     "data": {
      "text/plain": [
       "['@CNNbrasil',\n",
       " '@BBCNewsBrasil',\n",
       " '@g1globo',\n",
       " '@estadao',\n",
       " '@folha',\n",
       " '@jornaloglobo',\n",
       " 'MetrópolesTV',\n",
       " '@veja']"
      ]
     },
     "execution_count": 3,
     "metadata": {},
     "output_type": "execute_result"
    }
   ],
   "source": [
    "dataCollector.get_handles()"
   ]
  },
  {
   "cell_type": "code",
   "execution_count": 4,
   "id": "d1bdac3c",
   "metadata": {},
   "outputs": [
    {
     "name": "stdout",
     "output_type": "stream",
     "text": [
      "\n",
      "Processando canal: @CNNbrasil\n",
      "Canal: CNN Brasil\n",
      "Channel ID: UCvdwhh_fDyWccR42-rReZLw\n",
      "\n",
      "Processando canal: @BBCNewsBrasil\n",
      "Canal: BBC News Brasil\n",
      "Channel ID: UCthbIFAxbXTTQEC7EcQvP1Q\n",
      "\n",
      "Processando canal: @g1globo\n",
      "Canal: g1\n",
      "Channel ID: UCaGmdJSSiR7fkh2A-c6emsA\n",
      "\n",
      "Processando canal: @estadao\n",
      "Canal: Estadão\n",
      "Channel ID: UCrtOL8bJsh-csozGS2aV77Q\n",
      "Erro ao extrair dados do vídeo hJM8_n-r46E: 'duration'\n",
      "\n",
      "Processando canal: @folha\n",
      "Canal: Folha de S.Paulo\n",
      "Channel ID: UCmYuiV9wAR3i8p19Ygc7izg\n",
      "\n",
      "Processando canal: @jornaloglobo\n",
      "Canal: Jornal O Globo\n",
      "Channel ID: UC-6xqzMBF2CXTImn_a4aCVg\n",
      "\n",
      "Processando canal: MetrópolesTV\n",
      "Canal: Metrópoles\n",
      "Channel ID: UC9mdw2mmn49ZuqGOpSri7Fw\n",
      "\n",
      "Processando canal: @veja\n",
      "Canal: VEJA+\n",
      "Channel ID: UCV6Ue4o5UIeKQ3IEkjnXRlg\n",
      "Dados salvos em: output/data_videos.csv\n"
     ]
    }
   ],
   "source": [
    "dataCollector.collect()"
   ]
  },
  {
   "cell_type": "code",
   "execution_count": 6,
   "id": "6ef514f3",
   "metadata": {},
   "outputs": [
    {
     "data": {
      "text/html": [
       "<div>\n",
       "<style scoped>\n",
       "    .dataframe tbody tr th:only-of-type {\n",
       "        vertical-align: middle;\n",
       "    }\n",
       "\n",
       "    .dataframe tbody tr th {\n",
       "        vertical-align: top;\n",
       "    }\n",
       "\n",
       "    .dataframe thead th {\n",
       "        text-align: right;\n",
       "    }\n",
       "</style>\n",
       "<table border=\"1\" class=\"dataframe\">\n",
       "  <thead>\n",
       "    <tr style=\"text-align: right;\">\n",
       "      <th></th>\n",
       "      <th>video_id</th>\n",
       "      <th>titulo</th>\n",
       "      <th>descricao</th>\n",
       "      <th>canal</th>\n",
       "      <th>channel_id</th>\n",
       "      <th>data_publicacao</th>\n",
       "      <th>views_video</th>\n",
       "      <th>likes_video</th>\n",
       "      <th>comentarios_video</th>\n",
       "      <th>duracao_segundos</th>\n",
       "      <th>tags</th>\n",
       "      <th>inscritos_canal</th>\n",
       "      <th>inscritos_ocultos</th>\n",
       "      <th>visualizacoes_canal</th>\n",
       "      <th>total_videos_canal</th>\n",
       "    </tr>\n",
       "  </thead>\n",
       "  <tbody>\n",
       "    <tr>\n",
       "      <th>0</th>\n",
       "      <td>CGj0v5KlyzA</td>\n",
       "      <td>AO VIVO: CNN 360º - 27/05/2025</td>\n",
       "      <td>Assista AO VIVO ao programa CNN 360º desta ter...</td>\n",
       "      <td>CNN Brasil</td>\n",
       "      <td>UCvdwhh_fDyWccR42-rReZLw</td>\n",
       "      <td>2025-05-26T22:38:58Z</td>\n",
       "      <td>11114</td>\n",
       "      <td>315</td>\n",
       "      <td>0</td>\n",
       "      <td>0</td>\n",
       "      <td>['CNN Esportes', 'CNN Esportes ao vivo', 'Fute...</td>\n",
       "      <td>5890000</td>\n",
       "      <td>False</td>\n",
       "      <td>3788491449</td>\n",
       "      <td>129354</td>\n",
       "    </tr>\n",
       "    <tr>\n",
       "      <th>1</th>\n",
       "      <td>ghwV20yR_l0</td>\n",
       "      <td>INSS segue sem plano de ressarcimento um mês a...</td>\n",
       "      <td>Um mês após a operação que revelou um esquema ...</td>\n",
       "      <td>CNN Brasil</td>\n",
       "      <td>UCvdwhh_fDyWccR42-rReZLw</td>\n",
       "      <td>2025-05-27T18:50:42Z</td>\n",
       "      <td>8</td>\n",
       "      <td>2</td>\n",
       "      <td>0</td>\n",
       "      <td>87</td>\n",
       "      <td>['cnn', 'cnn ao vivo', 'cnn ao vivo agora', 'c...</td>\n",
       "      <td>5890000</td>\n",
       "      <td>False</td>\n",
       "      <td>3788491449</td>\n",
       "      <td>129354</td>\n",
       "    </tr>\n",
       "  </tbody>\n",
       "</table>\n",
       "</div>"
      ],
      "text/plain": [
       "      video_id                                             titulo  \\\n",
       "0  CGj0v5KlyzA                     AO VIVO: CNN 360º - 27/05/2025   \n",
       "1  ghwV20yR_l0  INSS segue sem plano de ressarcimento um mês a...   \n",
       "\n",
       "                                           descricao       canal  \\\n",
       "0  Assista AO VIVO ao programa CNN 360º desta ter...  CNN Brasil   \n",
       "1  Um mês após a operação que revelou um esquema ...  CNN Brasil   \n",
       "\n",
       "                 channel_id       data_publicacao  views_video  likes_video  \\\n",
       "0  UCvdwhh_fDyWccR42-rReZLw  2025-05-26T22:38:58Z        11114          315   \n",
       "1  UCvdwhh_fDyWccR42-rReZLw  2025-05-27T18:50:42Z            8            2   \n",
       "\n",
       "   comentarios_video  duracao_segundos  \\\n",
       "0                  0                 0   \n",
       "1                  0                87   \n",
       "\n",
       "                                                tags  inscritos_canal  \\\n",
       "0  ['CNN Esportes', 'CNN Esportes ao vivo', 'Fute...          5890000   \n",
       "1  ['cnn', 'cnn ao vivo', 'cnn ao vivo agora', 'c...          5890000   \n",
       "\n",
       "   inscritos_ocultos  visualizacoes_canal  total_videos_canal  \n",
       "0              False           3788491449              129354  \n",
       "1              False           3788491449              129354  "
      ]
     },
     "execution_count": 6,
     "metadata": {},
     "output_type": "execute_result"
    }
   ],
   "source": [
    "import pandas as pd\n",
    "\n",
    "df = pd.read_csv('output/data_videos.csv')\n",
    "df.head(2)"
   ]
  }
 ],
 "metadata": {
  "kernelspec": {
   "display_name": "venv",
   "language": "python",
   "name": "python3"
  },
  "language_info": {
   "codemirror_mode": {
    "name": "ipython",
    "version": 3
   },
   "file_extension": ".py",
   "mimetype": "text/x-python",
   "name": "python",
   "nbconvert_exporter": "python",
   "pygments_lexer": "ipython3",
   "version": "3.10.12"
  }
 },
 "nbformat": 4,
 "nbformat_minor": 5
}
