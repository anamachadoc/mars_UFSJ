{
 "cells": [
  {
   "cell_type": "code",
   "execution_count": null,
   "id": "53274615",
   "metadata": {},
   "outputs": [],
   "source": [
    "from collect_videos import YoutubeDataCollector\n",
    "from dotenv import load_dotenv\n",
    "import os\n",
    "\n",
    "load_dotenv()\n",
    "\n",
    "kwargs = {\n",
    "    'api_key': os.getenv('YOUTUBE_API_KEY'),\n",
    "    'videos_by_channel': 2000,\n",
    "    'channel_path': 'input/channels.txt',\n",
    "    'save_path': 'output/'\n",
    "}\n",
    "\n",
    "\n",
    "dataCollector = YoutubeDataCollector(**kwargs)"
   ]
  },
  {
   "cell_type": "code",
   "execution_count": 2,
   "id": "867fcc2b",
   "metadata": {},
   "outputs": [
    {
     "data": {
      "text/plain": [
       "['@CNNbrasil']"
      ]
     },
     "execution_count": 2,
     "metadata": {},
     "output_type": "execute_result"
    }
   ],
   "source": [
    "dataCollector.get_handles()"
   ]
  },
  {
   "cell_type": "code",
   "execution_count": 3,
   "id": "d1bdac3c",
   "metadata": {},
   "outputs": [
    {
     "name": "stdout",
     "output_type": "stream",
     "text": [
      "\n",
      "Processando canal: @CNNbrasil\n",
      "Canal: CNN Brasil\n",
      "Channel ID: UCvdwhh_fDyWccR42-rReZLw\n"
     ]
    },
    {
     "name": "stderr",
     "output_type": "stream",
     "text": [
      "100%|██████████| 200/200 [00:01<00:00, 155.06it/s]\n"
     ]
    },
    {
     "name": "stdout",
     "output_type": "stream",
     "text": [
      "200\n"
     ]
    },
    {
     "name": "stderr",
     "output_type": "stream",
     "text": [
      "100%|██████████| 200/200 [00:30<00:00,  6.59it/s]\n"
     ]
    }
   ],
   "source": [
    "dataCollector.collect()"
   ]
  },
  {
   "cell_type": "code",
   "execution_count": 3,
   "id": "63b7c98f",
   "metadata": {},
   "outputs": [],
   "source": [
    "import pandas as pd\n",
    "\n",
    "df = pd.read_csv('output/videos_@BBCNewsBrasil.csv')"
   ]
  },
  {
   "cell_type": "code",
   "execution_count": 4,
   "id": "216244c9",
   "metadata": {},
   "outputs": [
    {
     "data": {
      "text/plain": [
       "4000"
      ]
     },
     "execution_count": 4,
     "metadata": {},
     "output_type": "execute_result"
    }
   ],
   "source": [
    "len(df)"
   ]
  }
 ],
 "metadata": {
  "kernelspec": {
   "display_name": "venv",
   "language": "python",
   "name": "python3"
  },
  "language_info": {
   "codemirror_mode": {
    "name": "ipython",
    "version": 3
   },
   "file_extension": ".py",
   "mimetype": "text/x-python",
   "name": "python",
   "nbconvert_exporter": "python",
   "pygments_lexer": "ipython3",
   "version": "3.10.12"
  }
 },
 "nbformat": 4,
 "nbformat_minor": 5
}
